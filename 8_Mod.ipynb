{
 "cells": [
  {
   "cell_type": "markdown",
   "metadata": {},
   "source": [
    "##### Final Project AIT - 526\n",
    "\n",
    "###### Vrishin Reddy Minkuri - G01444633\n",
    "###### Rishitha Reddy Bitla - G01448537\n",
    "###### Keerthana Reddy Kalva - G01448551 \n",
    "###### Rohith Reddy Marlapally - G01450316"
   ]
  },
  {
   "cell_type": "markdown",
   "metadata": {},
   "source": []
  },
  {
   "cell_type": "markdown",
   "metadata": {},
   "source": [
    "#### Base Line Modal Integration - 2"
   ]
  },
  {
   "cell_type": "code",
   "execution_count": null,
   "metadata": {},
   "outputs": [],
   "source": [
    "import os\n",
    "import pandas as pd\n",
    "from sklearn.feature_extraction.text import TfidfVectorizer\n",
    "from sklearn.model_selection import train_test_split\n",
    "from sklearn.naive_bayes import MultinomialNB\n",
    "from sklearn.linear_model import LogisticRegression\n",
    "from sklearn.svm import LinearSVC\n",
    "from sklearn.ensemble import RandomForestClassifier\n",
    "from xgboost import XGBClassifier\n",
    "from sklearn.tree import DecisionTreeClassifier\n",
    "from sklearn.linear_model import Lasso, LogisticRegression\n",
    "from sklearn.neighbors import KNeighborsClassifier\n",
    "import string\n",
    "import pickle\n",
    "from sklearn.metrics import accuracy_score, precision_score, recall_score, f1_score, classification_report, confusion_matrix\n",
    "import plotly.express as px\n",
    "import plotly.graph_objects as go\n",
    "import plotly.io as pio\n",
    "import nltk\n",
    "from nltk.corpus import stopwords\n",
    "from nltk.stem import WordNetLemmatizer"
   ]
  },
  {
   "cell_type": "code",
   "execution_count": 2,
   "metadata": {},
   "outputs": [
    {
     "name": "stderr",
     "output_type": "stream",
     "text": [
      "[nltk_data] Error loading stopwords: <urlopen error [WinError 10054]\n",
      "[nltk_data]     An existing connection was forcibly closed by the\n",
      "[nltk_data]     remote host>\n",
      "[nltk_data] Error loading wordnet: <urlopen error [WinError 10054] An\n",
      "[nltk_data]     existing connection was forcibly closed by the remote\n",
      "[nltk_data]     host>\n"
     ]
    },
    {
     "data": {
      "text/plain": [
       "False"
      ]
     },
     "execution_count": 2,
     "metadata": {},
     "output_type": "execute_result"
    }
   ],
   "source": [
    "nltk.download('stopwords')\n",
    "nltk.download('wordnet')"
   ]
  },
  {
   "cell_type": "code",
   "execution_count": 3,
   "metadata": {},
   "outputs": [
    {
     "name": "stdout",
     "output_type": "stream",
     "text": [
      "<bound method NDFrame.head of                                            Sentiment_Text  Sentiment_label\n",
      "0       i feel awful about it too because it s my job ...                0\n",
      "1                                   im alone i feel awful                0\n",
      "2       ive probably mentioned this before but i reall...                1\n",
      "3                i was feeling a little low few days back                0\n",
      "4       i beleive that i am much more sensitive to oth...                2\n",
      "...                                                   ...              ...\n",
      "416804  that was what i felt when i was finally accept...                1\n",
      "416805  i take every day as it comes i m just focussin...                4\n",
      "416806      i just suddenly feel that everything was fake                0\n",
      "416807  im feeling more eager than ever to claw back w...                1\n",
      "416808  i give you plenty of attention even when i fee...                0\n",
      "\n",
      "[416809 rows x 2 columns]>\n"
     ]
    }
   ],
   "source": [
    "# Load the dataset from the specified path\n",
    "df = pd.read_csv(r'C:\\Users\\vrishin\\Documents\\AIT_526_MP\\Emotion_Text.csv')\n",
    "print(df.head)"
   ]
  },
  {
   "cell_type": "code",
   "execution_count": null,
   "metadata": {},
   "outputs": [],
   "source": [
    "df_cleaned = df[['Sentiment_Text', 'Sentiment_label']]\n",
    "df_cleaned = df_cleaned[pd.notnull(df_cleaned['Sentiment_Text'])]"
   ]
  },
  {
   "cell_type": "markdown",
   "metadata": {},
   "source": [
    "#### Text Cleaning and Preprocessing"
   ]
  },
  {
   "cell_type": "code",
   "execution_count": null,
   "metadata": {},
   "outputs": [
    {
     "name": "stdout",
     "output_type": "stream",
     "text": [
      "Models will be saved in: C:\\Users\\vrishin\\Desktop\\model_saves\n"
     ]
    }
   ],
   "source": [
    "\n",
    "def text_cleaning(df):\n",
    "    \"\"\"\n",
    "    Cleans text data within a DataFrame by removing punctuation and converting text to lowercase.\n",
    "    \n",
    "    Args:\n",
    "    - df (pd.DataFrame): DataFrame containing a column 'Sentiment_Text' with text to clean.\n",
    "\n",
    "    Returns:\n",
    "    - df (pd.DataFrame): DataFrame with an additional column 'cleaned_text' that contains the cleaned text data.\n",
    "    \"\"\"\n",
    "    df['cleaned_text'] = \"\"\n",
    "    for index, row in df.iterrows():\n",
    "        text = row['Sentiment_Text'].lower()\n",
    "        cleaned = [char for char in text if char not in string.punctuation]\n",
    "        cleaned = \"\".join(cleaned)\n",
    "        df.at[index, 'cleaned_text'] = cleaned\n",
    "    return df\n",
    "\n",
    "# Clean the dataset\n",
    "df_cleaned = text_cleaning(df_cleaned)\n",
    "df_cleaned = df_cleaned.reset_index(drop=True)\n",
    "\n",
    "# Alternative save path to the Desktop\n",
    "desktop_dir = os.path.join(os.path.expanduser(\"~\"), \"Desktop\")\n",
    "save_dir = os.path.join(desktop_dir, \"model_saves\")\n",
    "os.makedirs(save_dir, exist_ok=True)\n",
    "print(f\"Models will be saved in: {save_dir}\")"
   ]
  },
  {
   "cell_type": "markdown",
   "metadata": {},
   "source": [
    "#### Feature Extraction and Model Training (TF-IDF with ML Models)"
   ]
  },
  {
   "cell_type": "code",
   "execution_count": null,
   "metadata": {},
   "outputs": [],
   "source": [
    "\n",
    "def text_features(df, test_size):\n",
    "\n",
    "    \"\"\"\n",
    "        Processes text data for sentiment analysis, trains multiple ML models, and saves them.\n",
    "    \n",
    "    Args:\n",
    "    - df (pd.DataFrame): The input DataFrame containing at least two columns: 'cleaned_text' and 'Sentiment_label'.\n",
    "    - test_size (float): The proportion of the dataset to include in the test split.\n",
    "\n",
    "    Processes:\n",
    "    - Splits the data into training and testing sets.\n",
    "    - Fits a TF-IDF Vectorizer to the training data and transforms both training and test data.\n",
    "    - Initializes and fits various machine learning models on the transformed training data.\n",
    "    - Saves each model and the vectorizer to disk.\n",
    "\n",
    "    Initializes the Following Models:\n",
    "    - Naive Bayes\n",
    "    - Support Vector Machine (SVM)\n",
    "    - Logistic Regression\n",
    "    - Lasso Regression\n",
    "    - Decision Tree\n",
    "    - Random Forest\n",
    "    - K-Nearest Neighbors (KNN)\n",
    "    - XGBoost\n",
    "\n",
    "    Outputs:\n",
    "    - models (dict): A dictionary of fitted models, keyed by model name.\n",
    "    - tfidf_vect (TfidfVectorizer): The fitted TF-IDF vectorizer.\n",
    "    - X_train (sparse matrix): The transformed training feature set.\n",
    "    - X_test (sparse matrix): The transformed test feature set.\n",
    "    - y_train (pd.Series): The training labels.\n",
    "    - y_test (pd.Series): The test labels.\n",
    "\n",
    "    Saves:\n",
    "    - Individual model files for each classifier in a specified directory (defined by 'save_dir').\n",
    "    - TF-IDF vectorizer file in the same directory.\n",
    "    \n",
    "    Returns:\n",
    "    - A tuple containing references to the models dictionary, vectorizer, and dataset splits.\n",
    "    \"\"\"\n",
    "    \n",
    "    X = df['cleaned_text']\n",
    "    y = df['Sentiment_label']\n",
    "    X_train, X_test, y_train, y_test = train_test_split(X, y, test_size=test_size, random_state=42)\n",
    "\n",
    "    # TF-IDF Vectorizer\n",
    "    tfidf_vect = TfidfVectorizer(min_df=1, stop_words='english')\n",
    "    tfidf_vect.fit(X_train)\n",
    "\n",
    "    # Initialize Models\n",
    "    models = {\n",
    "        'Naive Bayes': MultinomialNB().fit(tfidf_vect.transform(X_train), y_train),\n",
    "        'SVM': LinearSVC().fit(tfidf_vect.transform(X_train), y_train),\n",
    "        'Logistic Regression': LogisticRegression(max_iter=1000).fit(tfidf_vect.transform(X_train), y_train),\n",
    "        'Lasso Regression': LogisticRegression(penalty='l1', solver='liblinear', max_iter=1000).fit(tfidf_vect.transform(X_train), y_train),\n",
    "        'Decision Tree': DecisionTreeClassifier().fit(tfidf_vect.transform(X_train), y_train),\n",
    "        'Random Forest': RandomForestClassifier(n_estimators=100, random_state=42).fit(tfidf_vect.transform(X_train), y_train),\n",
    "        'KNN': KNeighborsClassifier(n_neighbors=5).fit(tfidf_vect.transform(X_train), y_train),\n",
    "        'XGBoost': XGBClassifier(eval_metric='mlogloss').fit(tfidf_vect.transform(X_train), y_train)\n",
    "    }\n",
    "\n",
    "    # Save models and vectorizer\n",
    "    for name, model in models.items():\n",
    "        filename = os.path.join(save_dir, f\"{name.lower().replace(' ', '_')}_text_emotion_model.sav\")\n",
    "        try:\n",
    "            with open(filename, 'wb') as file:\n",
    "                pickle.dump(model, file)\n",
    "            print(f\"{name} model saved successfully at {filename}\")\n",
    "        except OSError as e:\n",
    "            print(f\"Error saving {name} model: {e}\")\n",
    "\n",
    "    vectorizer_path = os.path.join(save_dir, 'tfidf_vect.pk')\n",
    "    try:\n",
    "        with open(vectorizer_path, 'wb') as fin:\n",
    "            pickle.dump(tfidf_vect, fin)\n",
    "        print(\"Vectorizer saved successfully.\")\n",
    "    except OSError as e:\n",
    "        print(f\"Error saving vectorizer: {e}\")\n",
    "\n",
    "    return models, tfidf_vect, X_train, X_test, y_train, y_test"
   ]
  },
  {
   "cell_type": "markdown",
   "metadata": {},
   "source": [
    "#### Train traditional models"
   ]
  },
  {
   "cell_type": "code",
   "execution_count": null,
   "metadata": {},
   "outputs": [
    {
     "name": "stdout",
     "output_type": "stream",
     "text": [
      "Naive Bayes model saved successfully at C:\\Users\\vrishin\\Desktop\\model_saves\\naive_bayes_text_emotion_model.sav\n",
      "SVM model saved successfully at C:\\Users\\vrishin\\Desktop\\model_saves\\svm_text_emotion_model.sav\n",
      "Logistic Regression model saved successfully at C:\\Users\\vrishin\\Desktop\\model_saves\\logistic_regression_text_emotion_model.sav\n",
      "Lasso Regression model saved successfully at C:\\Users\\vrishin\\Desktop\\model_saves\\lasso_regression_text_emotion_model.sav\n",
      "Decision Tree model saved successfully at C:\\Users\\vrishin\\Desktop\\model_saves\\decision_tree_text_emotion_model.sav\n",
      "Random Forest model saved successfully at C:\\Users\\vrishin\\Desktop\\model_saves\\random_forest_text_emotion_model.sav\n",
      "KNN model saved successfully at C:\\Users\\vrishin\\Desktop\\model_saves\\knn_text_emotion_model.sav\n",
      "XGBoost model saved successfully at C:\\Users\\vrishin\\Desktop\\model_saves\\xgboost_text_emotion_model.sav\n",
      "Vectorizer saved successfully.\n"
     ]
    }
   ],
   "source": [
    "\n",
    "models, tfidf_vect, X_train, X_test, y_train, y_test = text_features(df_cleaned, test_size=0.2)"
   ]
  },
  {
   "cell_type": "markdown",
   "metadata": {},
   "source": [
    "#### Model Evaluation"
   ]
  },
  {
   "cell_type": "code",
   "execution_count": null,
   "metadata": {},
   "outputs": [
    {
     "name": "stdout",
     "output_type": "stream",
     "text": [
      "Classification Report for Naive Bayes:\n",
      "\n",
      "              precision    recall  f1-score   support\n",
      "\n",
      "       Anger       0.77      0.94      0.85     24504\n",
      "        Fear       0.71      0.97      0.82     28247\n",
      "         Joy       0.95      0.25      0.40      6853\n",
      "        Love       0.93      0.65      0.76     11339\n",
      "     Sadness       0.90      0.51      0.66      9376\n",
      "    Surprise       1.00      0.09      0.16      3043\n",
      "\n",
      "    accuracy                           0.77     83362\n",
      "   macro avg       0.88      0.57      0.61     83362\n",
      "weighted avg       0.81      0.77      0.74     83362\n",
      "\n",
      "Classification Report for SVM:\n",
      "\n",
      "              precision    recall  f1-score   support\n",
      "\n",
      "       Anger       0.93      0.93      0.93     24504\n",
      "        Fear       0.90      0.91      0.91     28247\n",
      "         Joy       0.75      0.75      0.75      6853\n",
      "        Love       0.89      0.89      0.89     11339\n",
      "     Sadness       0.83      0.83      0.83      9376\n",
      "    Surprise       0.73      0.70      0.71      3043\n",
      "\n",
      "    accuracy                           0.88     83362\n",
      "   macro avg       0.84      0.83      0.84     83362\n",
      "weighted avg       0.88      0.88      0.88     83362\n",
      "\n",
      "Classification Report for Logistic Regression:\n",
      "\n",
      "              precision    recall  f1-score   support\n",
      "\n",
      "       Anger       0.93      0.93      0.93     24504\n",
      "        Fear       0.90      0.93      0.92     28247\n",
      "         Joy       0.79      0.75      0.77      6853\n",
      "        Love       0.89      0.89      0.89     11339\n",
      "     Sadness       0.84      0.84      0.84      9376\n",
      "    Surprise       0.77      0.70      0.73      3043\n",
      "\n",
      "    accuracy                           0.89     83362\n",
      "   macro avg       0.86      0.84      0.85     83362\n",
      "weighted avg       0.89      0.89      0.89     83362\n",
      "\n",
      "Classification Report for Lasso Regression:\n",
      "\n",
      "              precision    recall  f1-score   support\n",
      "\n",
      "       Anger       0.94      0.93      0.94     24504\n",
      "        Fear       0.91      0.94      0.92     28247\n",
      "         Joy       0.82      0.77      0.80      6853\n",
      "        Love       0.90      0.91      0.90     11339\n",
      "     Sadness       0.85      0.87      0.86      9376\n",
      "    Surprise       0.82      0.72      0.76      3043\n",
      "\n",
      "    accuracy                           0.90     83362\n",
      "   macro avg       0.87      0.86      0.86     83362\n",
      "weighted avg       0.90      0.90      0.90     83362\n",
      "\n",
      "Classification Report for Decision Tree:\n",
      "\n",
      "              precision    recall  f1-score   support\n",
      "\n",
      "       Anger       0.90      0.89      0.89     24504\n",
      "        Fear       0.88      0.87      0.87     28247\n",
      "         Joy       0.67      0.66      0.67      6853\n",
      "        Love       0.85      0.86      0.86     11339\n",
      "     Sadness       0.76      0.79      0.78      9376\n",
      "    Surprise       0.65      0.61      0.63      3043\n",
      "\n",
      "    accuracy                           0.84     83362\n",
      "   macro avg       0.78      0.78      0.78     83362\n",
      "weighted avg       0.84      0.84      0.84     83362\n",
      "\n",
      "Classification Report for Random Forest:\n",
      "\n",
      "              precision    recall  f1-score   support\n",
      "\n",
      "       Anger       0.92      0.92      0.92     24504\n",
      "        Fear       0.89      0.89      0.89     28247\n",
      "         Joy       0.70      0.69      0.69      6853\n",
      "        Love       0.86      0.88      0.87     11339\n",
      "     Sadness       0.79      0.80      0.80      9376\n",
      "    Surprise       0.67      0.65      0.66      3043\n",
      "\n",
      "    accuracy                           0.86     83362\n",
      "   macro avg       0.81      0.80      0.81     83362\n",
      "weighted avg       0.86      0.86      0.86     83362\n",
      "\n",
      "Classification Report for KNN:\n",
      "\n",
      "              precision    recall  f1-score   support\n",
      "\n",
      "       Anger       0.63      0.55      0.59     24504\n",
      "        Fear       0.74      0.42      0.54     28247\n",
      "         Joy       0.73      0.24      0.36      6853\n",
      "        Love       0.26      0.68      0.37     11339\n",
      "     Sadness       0.33      0.44      0.38      9376\n",
      "    Surprise       0.75      0.22      0.34      3043\n",
      "\n",
      "    accuracy                           0.48     83362\n",
      "   macro avg       0.57      0.43      0.43     83362\n",
      "weighted avg       0.60      0.48      0.49     83362\n",
      "\n",
      "Classification Report for XGBoost:\n",
      "\n",
      "              precision    recall  f1-score   support\n",
      "\n",
      "       Anger       0.95      0.91      0.93     24504\n",
      "        Fear       0.92      0.89      0.91     28247\n",
      "         Joy       0.74      0.92      0.82      6853\n",
      "        Love       0.91      0.88      0.90     11339\n",
      "     Sadness       0.86      0.84      0.85      9376\n",
      "    Surprise       0.70      0.91      0.79      3043\n",
      "\n",
      "    accuracy                           0.89     83362\n",
      "   macro avg       0.85      0.89      0.87     83362\n",
      "weighted avg       0.90      0.89      0.89     83362\n",
      "\n"
     ]
    }
   ],
   "source": [
    "\n",
    "results_list = []\n",
    "for name, clf in models.items():\n",
    "    y_pred = clf.predict(tfidf_vect.transform(X_test))\n",
    "    accuracy = accuracy_score(y_test, y_pred)\n",
    "    precision = precision_score(y_test, y_pred, average='weighted')\n",
    "    recall = recall_score(y_test, y_pred, average='weighted')\n",
    "    f1 = f1_score(y_test, y_pred, average='weighted')\n",
    "    \n",
    "    print(f\"Classification Report for {name}:\\n\")\n",
    "    print(classification_report(y_test, y_pred, target_names=['Anger', 'Fear', 'Joy', 'Love', 'Sadness', 'Surprise']))\n",
    "    \n",
    "    # Store each model's metrics\n",
    "    results_list.append({\n",
    "        'Model': name,\n",
    "        'Accuracy': accuracy,\n",
    "        'Precision': precision,\n",
    "        'Recall': recall,\n",
    "        'F1 Score': f1\n",
    "    })"
   ]
  },
  {
   "cell_type": "markdown",
   "metadata": {},
   "source": [
    "#### Convert results to DataFrame and calculate a composite score (average of all metrics)"
   ]
  },
  {
   "cell_type": "code",
   "execution_count": null,
   "metadata": {},
   "outputs": [],
   "source": [
    "\n",
    "results_fullset = pd.DataFrame(results_list)\n",
    "results_fullset['Composite Score'] = results_fullset[['Accuracy', 'Precision', 'Recall', 'F1 Score']].mean(axis=1)"
   ]
  },
  {
   "cell_type": "markdown",
   "metadata": {},
   "source": [
    "#### Find the best model based on the highest composite score"
   ]
  },
  {
   "cell_type": "code",
   "execution_count": null,
   "metadata": {},
   "outputs": [],
   "source": [
    "\n",
    "best_model_name = results_fullset.loc[results_fullset['Composite Score'].idxmax(), 'Model']\n",
    "best_model = models[best_model_name]"
   ]
  },
  {
   "cell_type": "markdown",
   "metadata": {},
   "source": [
    "#### Print the best model details"
   ]
  },
  {
   "cell_type": "code",
   "execution_count": null,
   "metadata": {},
   "outputs": [
    {
     "name": "stdout",
     "output_type": "stream",
     "text": [
      "\n",
      "Overall Performance Metrics for Each Model:\n",
      "                 Model  Accuracy  Precision    Recall  F1 Score  \\\n",
      "0          Naive Bayes  0.773518   0.812169  0.773518  0.743647   \n",
      "1                  SVM  0.883484   0.883251  0.883484  0.883340   \n",
      "2  Logistic Regression  0.890202   0.889324  0.890202  0.889574   \n",
      "3     Lasso Regression  0.902150   0.901597  0.902150  0.901580   \n",
      "4        Decision Tree  0.840731   0.840513  0.840731  0.840555   \n",
      "5        Random Forest  0.862563   0.862292  0.862563  0.862398   \n",
      "6                  KNN  0.475528   0.596713  0.475528  0.490754   \n",
      "7              XGBoost  0.891797   0.897965  0.891797  0.893315   \n",
      "\n",
      "   Composite Score  \n",
      "0         0.775713  \n",
      "1         0.883390  \n",
      "2         0.889825  \n",
      "3         0.901869  \n",
      "4         0.840632  \n",
      "5         0.862454  \n",
      "6         0.509631  \n",
      "7         0.893719  \n",
      "\n",
      "Best Model Based on Composite Score: Lasso Regression\n"
     ]
    }
   ],
   "source": [
    "\n",
    "print(\"\\nOverall Performance Metrics for Each Model:\")\n",
    "print(results_fullset)\n",
    "print(f\"\\nBest Model Based on Composite Score: {best_model_name}\")"
   ]
  },
  {
   "cell_type": "markdown",
   "metadata": {},
   "source": [
    "#### Plot using Plotly"
   ]
  },
  {
   "cell_type": "code",
   "execution_count": null,
   "metadata": {},
   "outputs": [
    {
     "data": {
      "application/vnd.plotly.v1+json": {
       "config": {
        "plotlyServerURL": "https://plot.ly"
       },
       "data": [
        {
         "alignmentgroup": "True",
         "hovertemplate": "variable=Accuracy<br>Model=%{x}<br>value=%{y}<extra></extra>",
         "legendgroup": "Accuracy",
         "marker": {
          "color": "#636efa",
          "pattern": {
           "shape": ""
          }
         },
         "name": "Accuracy",
         "offsetgroup": "Accuracy",
         "orientation": "v",
         "showlegend": true,
         "textposition": "auto",
         "type": "bar",
         "x": [
          "Naive Bayes",
          "SVM",
          "Logistic Regression",
          "Lasso Regression",
          "Decision Tree",
          "Random Forest",
          "KNN",
          "XGBoost"
         ],
         "xaxis": "x",
         "y": [
          0.7735179098390154,
          0.8834840814759722,
          0.8902017705909168,
          0.9021496605167822,
          0.8407307886087186,
          0.8625632782322881,
          0.4755284182241309,
          0.8917972217557161
         ],
         "yaxis": "y"
        },
        {
         "alignmentgroup": "True",
         "hovertemplate": "variable=Precision<br>Model=%{x}<br>value=%{y}<extra></extra>",
         "legendgroup": "Precision",
         "marker": {
          "color": "#EF553B",
          "pattern": {
           "shape": ""
          }
         },
         "name": "Precision",
         "offsetgroup": "Precision",
         "orientation": "v",
         "showlegend": true,
         "textposition": "auto",
         "type": "bar",
         "x": [
          "Naive Bayes",
          "SVM",
          "Logistic Regression",
          "Lasso Regression",
          "Decision Tree",
          "Random Forest",
          "KNN",
          "XGBoost"
         ],
         "xaxis": "x",
         "y": [
          0.8121692394025819,
          0.8832509847335912,
          0.8893237224761594,
          0.9015971913033383,
          0.8405129900920533,
          0.8622918263962611,
          0.5967131663078451,
          0.8979652256279687
         ],
         "yaxis": "y"
        },
        {
         "alignmentgroup": "True",
         "hovertemplate": "variable=Recall<br>Model=%{x}<br>value=%{y}<extra></extra>",
         "legendgroup": "Recall",
         "marker": {
          "color": "#00cc96",
          "pattern": {
           "shape": ""
          }
         },
         "name": "Recall",
         "offsetgroup": "Recall",
         "orientation": "v",
         "showlegend": true,
         "textposition": "auto",
         "type": "bar",
         "x": [
          "Naive Bayes",
          "SVM",
          "Logistic Regression",
          "Lasso Regression",
          "Decision Tree",
          "Random Forest",
          "KNN",
          "XGBoost"
         ],
         "xaxis": "x",
         "y": [
          0.7735179098390154,
          0.8834840814759722,
          0.8902017705909168,
          0.9021496605167822,
          0.8407307886087186,
          0.8625632782322881,
          0.4755284182241309,
          0.8917972217557161
         ],
         "yaxis": "y"
        },
        {
         "alignmentgroup": "True",
         "hovertemplate": "variable=F1 Score<br>Model=%{x}<br>value=%{y}<extra></extra>",
         "legendgroup": "F1 Score",
         "marker": {
          "color": "#ab63fa",
          "pattern": {
           "shape": ""
          }
         },
         "name": "F1 Score",
         "offsetgroup": "F1 Score",
         "orientation": "v",
         "showlegend": true,
         "textposition": "auto",
         "type": "bar",
         "x": [
          "Naive Bayes",
          "SVM",
          "Logistic Regression",
          "Lasso Regression",
          "Decision Tree",
          "Random Forest",
          "KNN",
          "XGBoost"
         ],
         "xaxis": "x",
         "y": [
          0.7436473039203397,
          0.8833399875611291,
          0.8895742227497022,
          0.9015797080365078,
          0.8405546705159879,
          0.8623977864341502,
          0.49075385164369006,
          0.8933146555519949
         ],
         "yaxis": "y"
        }
       ],
       "layout": {
        "barmode": "group",
        "legend": {
         "title": {
          "text": "variable"
         },
         "tracegroupgap": 0
        },
        "template": {
         "data": {
          "bar": [
           {
            "error_x": {
             "color": "#2a3f5f"
            },
            "error_y": {
             "color": "#2a3f5f"
            },
            "marker": {
             "line": {
              "color": "#E5ECF6",
              "width": 0.5
             },
             "pattern": {
              "fillmode": "overlay",
              "size": 10,
              "solidity": 0.2
             }
            },
            "type": "bar"
           }
          ],
          "barpolar": [
           {
            "marker": {
             "line": {
              "color": "#E5ECF6",
              "width": 0.5
             },
             "pattern": {
              "fillmode": "overlay",
              "size": 10,
              "solidity": 0.2
             }
            },
            "type": "barpolar"
           }
          ],
          "carpet": [
           {
            "aaxis": {
             "endlinecolor": "#2a3f5f",
             "gridcolor": "white",
             "linecolor": "white",
             "minorgridcolor": "white",
             "startlinecolor": "#2a3f5f"
            },
            "baxis": {
             "endlinecolor": "#2a3f5f",
             "gridcolor": "white",
             "linecolor": "white",
             "minorgridcolor": "white",
             "startlinecolor": "#2a3f5f"
            },
            "type": "carpet"
           }
          ],
          "choropleth": [
           {
            "colorbar": {
             "outlinewidth": 0,
             "ticks": ""
            },
            "type": "choropleth"
           }
          ],
          "contour": [
           {
            "colorbar": {
             "outlinewidth": 0,
             "ticks": ""
            },
            "colorscale": [
             [
              0,
              "#0d0887"
             ],
             [
              0.1111111111111111,
              "#46039f"
             ],
             [
              0.2222222222222222,
              "#7201a8"
             ],
             [
              0.3333333333333333,
              "#9c179e"
             ],
             [
              0.4444444444444444,
              "#bd3786"
             ],
             [
              0.5555555555555556,
              "#d8576b"
             ],
             [
              0.6666666666666666,
              "#ed7953"
             ],
             [
              0.7777777777777778,
              "#fb9f3a"
             ],
             [
              0.8888888888888888,
              "#fdca26"
             ],
             [
              1,
              "#f0f921"
             ]
            ],
            "type": "contour"
           }
          ],
          "contourcarpet": [
           {
            "colorbar": {
             "outlinewidth": 0,
             "ticks": ""
            },
            "type": "contourcarpet"
           }
          ],
          "heatmap": [
           {
            "colorbar": {
             "outlinewidth": 0,
             "ticks": ""
            },
            "colorscale": [
             [
              0,
              "#0d0887"
             ],
             [
              0.1111111111111111,
              "#46039f"
             ],
             [
              0.2222222222222222,
              "#7201a8"
             ],
             [
              0.3333333333333333,
              "#9c179e"
             ],
             [
              0.4444444444444444,
              "#bd3786"
             ],
             [
              0.5555555555555556,
              "#d8576b"
             ],
             [
              0.6666666666666666,
              "#ed7953"
             ],
             [
              0.7777777777777778,
              "#fb9f3a"
             ],
             [
              0.8888888888888888,
              "#fdca26"
             ],
             [
              1,
              "#f0f921"
             ]
            ],
            "type": "heatmap"
           }
          ],
          "heatmapgl": [
           {
            "colorbar": {
             "outlinewidth": 0,
             "ticks": ""
            },
            "colorscale": [
             [
              0,
              "#0d0887"
             ],
             [
              0.1111111111111111,
              "#46039f"
             ],
             [
              0.2222222222222222,
              "#7201a8"
             ],
             [
              0.3333333333333333,
              "#9c179e"
             ],
             [
              0.4444444444444444,
              "#bd3786"
             ],
             [
              0.5555555555555556,
              "#d8576b"
             ],
             [
              0.6666666666666666,
              "#ed7953"
             ],
             [
              0.7777777777777778,
              "#fb9f3a"
             ],
             [
              0.8888888888888888,
              "#fdca26"
             ],
             [
              1,
              "#f0f921"
             ]
            ],
            "type": "heatmapgl"
           }
          ],
          "histogram": [
           {
            "marker": {
             "pattern": {
              "fillmode": "overlay",
              "size": 10,
              "solidity": 0.2
             }
            },
            "type": "histogram"
           }
          ],
          "histogram2d": [
           {
            "colorbar": {
             "outlinewidth": 0,
             "ticks": ""
            },
            "colorscale": [
             [
              0,
              "#0d0887"
             ],
             [
              0.1111111111111111,
              "#46039f"
             ],
             [
              0.2222222222222222,
              "#7201a8"
             ],
             [
              0.3333333333333333,
              "#9c179e"
             ],
             [
              0.4444444444444444,
              "#bd3786"
             ],
             [
              0.5555555555555556,
              "#d8576b"
             ],
             [
              0.6666666666666666,
              "#ed7953"
             ],
             [
              0.7777777777777778,
              "#fb9f3a"
             ],
             [
              0.8888888888888888,
              "#fdca26"
             ],
             [
              1,
              "#f0f921"
             ]
            ],
            "type": "histogram2d"
           }
          ],
          "histogram2dcontour": [
           {
            "colorbar": {
             "outlinewidth": 0,
             "ticks": ""
            },
            "colorscale": [
             [
              0,
              "#0d0887"
             ],
             [
              0.1111111111111111,
              "#46039f"
             ],
             [
              0.2222222222222222,
              "#7201a8"
             ],
             [
              0.3333333333333333,
              "#9c179e"
             ],
             [
              0.4444444444444444,
              "#bd3786"
             ],
             [
              0.5555555555555556,
              "#d8576b"
             ],
             [
              0.6666666666666666,
              "#ed7953"
             ],
             [
              0.7777777777777778,
              "#fb9f3a"
             ],
             [
              0.8888888888888888,
              "#fdca26"
             ],
             [
              1,
              "#f0f921"
             ]
            ],
            "type": "histogram2dcontour"
           }
          ],
          "mesh3d": [
           {
            "colorbar": {
             "outlinewidth": 0,
             "ticks": ""
            },
            "type": "mesh3d"
           }
          ],
          "parcoords": [
           {
            "line": {
             "colorbar": {
              "outlinewidth": 0,
              "ticks": ""
             }
            },
            "type": "parcoords"
           }
          ],
          "pie": [
           {
            "automargin": true,
            "type": "pie"
           }
          ],
          "scatter": [
           {
            "fillpattern": {
             "fillmode": "overlay",
             "size": 10,
             "solidity": 0.2
            },
            "type": "scatter"
           }
          ],
          "scatter3d": [
           {
            "line": {
             "colorbar": {
              "outlinewidth": 0,
              "ticks": ""
             }
            },
            "marker": {
             "colorbar": {
              "outlinewidth": 0,
              "ticks": ""
             }
            },
            "type": "scatter3d"
           }
          ],
          "scattercarpet": [
           {
            "marker": {
             "colorbar": {
              "outlinewidth": 0,
              "ticks": ""
             }
            },
            "type": "scattercarpet"
           }
          ],
          "scattergeo": [
           {
            "marker": {
             "colorbar": {
              "outlinewidth": 0,
              "ticks": ""
             }
            },
            "type": "scattergeo"
           }
          ],
          "scattergl": [
           {
            "marker": {
             "colorbar": {
              "outlinewidth": 0,
              "ticks": ""
             }
            },
            "type": "scattergl"
           }
          ],
          "scattermapbox": [
           {
            "marker": {
             "colorbar": {
              "outlinewidth": 0,
              "ticks": ""
             }
            },
            "type": "scattermapbox"
           }
          ],
          "scatterpolar": [
           {
            "marker": {
             "colorbar": {
              "outlinewidth": 0,
              "ticks": ""
             }
            },
            "type": "scatterpolar"
           }
          ],
          "scatterpolargl": [
           {
            "marker": {
             "colorbar": {
              "outlinewidth": 0,
              "ticks": ""
             }
            },
            "type": "scatterpolargl"
           }
          ],
          "scatterternary": [
           {
            "marker": {
             "colorbar": {
              "outlinewidth": 0,
              "ticks": ""
             }
            },
            "type": "scatterternary"
           }
          ],
          "surface": [
           {
            "colorbar": {
             "outlinewidth": 0,
             "ticks": ""
            },
            "colorscale": [
             [
              0,
              "#0d0887"
             ],
             [
              0.1111111111111111,
              "#46039f"
             ],
             [
              0.2222222222222222,
              "#7201a8"
             ],
             [
              0.3333333333333333,
              "#9c179e"
             ],
             [
              0.4444444444444444,
              "#bd3786"
             ],
             [
              0.5555555555555556,
              "#d8576b"
             ],
             [
              0.6666666666666666,
              "#ed7953"
             ],
             [
              0.7777777777777778,
              "#fb9f3a"
             ],
             [
              0.8888888888888888,
              "#fdca26"
             ],
             [
              1,
              "#f0f921"
             ]
            ],
            "type": "surface"
           }
          ],
          "table": [
           {
            "cells": {
             "fill": {
              "color": "#EBF0F8"
             },
             "line": {
              "color": "white"
             }
            },
            "header": {
             "fill": {
              "color": "#C8D4E3"
             },
             "line": {
              "color": "white"
             }
            },
            "type": "table"
           }
          ]
         },
         "layout": {
          "annotationdefaults": {
           "arrowcolor": "#2a3f5f",
           "arrowhead": 0,
           "arrowwidth": 1
          },
          "autotypenumbers": "strict",
          "coloraxis": {
           "colorbar": {
            "outlinewidth": 0,
            "ticks": ""
           }
          },
          "colorscale": {
           "diverging": [
            [
             0,
             "#8e0152"
            ],
            [
             0.1,
             "#c51b7d"
            ],
            [
             0.2,
             "#de77ae"
            ],
            [
             0.3,
             "#f1b6da"
            ],
            [
             0.4,
             "#fde0ef"
            ],
            [
             0.5,
             "#f7f7f7"
            ],
            [
             0.6,
             "#e6f5d0"
            ],
            [
             0.7,
             "#b8e186"
            ],
            [
             0.8,
             "#7fbc41"
            ],
            [
             0.9,
             "#4d9221"
            ],
            [
             1,
             "#276419"
            ]
           ],
           "sequential": [
            [
             0,
             "#0d0887"
            ],
            [
             0.1111111111111111,
             "#46039f"
            ],
            [
             0.2222222222222222,
             "#7201a8"
            ],
            [
             0.3333333333333333,
             "#9c179e"
            ],
            [
             0.4444444444444444,
             "#bd3786"
            ],
            [
             0.5555555555555556,
             "#d8576b"
            ],
            [
             0.6666666666666666,
             "#ed7953"
            ],
            [
             0.7777777777777778,
             "#fb9f3a"
            ],
            [
             0.8888888888888888,
             "#fdca26"
            ],
            [
             1,
             "#f0f921"
            ]
           ],
           "sequentialminus": [
            [
             0,
             "#0d0887"
            ],
            [
             0.1111111111111111,
             "#46039f"
            ],
            [
             0.2222222222222222,
             "#7201a8"
            ],
            [
             0.3333333333333333,
             "#9c179e"
            ],
            [
             0.4444444444444444,
             "#bd3786"
            ],
            [
             0.5555555555555556,
             "#d8576b"
            ],
            [
             0.6666666666666666,
             "#ed7953"
            ],
            [
             0.7777777777777778,
             "#fb9f3a"
            ],
            [
             0.8888888888888888,
             "#fdca26"
            ],
            [
             1,
             "#f0f921"
            ]
           ]
          },
          "colorway": [
           "#636efa",
           "#EF553B",
           "#00cc96",
           "#ab63fa",
           "#FFA15A",
           "#19d3f3",
           "#FF6692",
           "#B6E880",
           "#FF97FF",
           "#FECB52"
          ],
          "font": {
           "color": "#2a3f5f"
          },
          "geo": {
           "bgcolor": "white",
           "lakecolor": "white",
           "landcolor": "#E5ECF6",
           "showlakes": true,
           "showland": true,
           "subunitcolor": "white"
          },
          "hoverlabel": {
           "align": "left"
          },
          "hovermode": "closest",
          "mapbox": {
           "style": "light"
          },
          "paper_bgcolor": "white",
          "plot_bgcolor": "#E5ECF6",
          "polar": {
           "angularaxis": {
            "gridcolor": "white",
            "linecolor": "white",
            "ticks": ""
           },
           "bgcolor": "#E5ECF6",
           "radialaxis": {
            "gridcolor": "white",
            "linecolor": "white",
            "ticks": ""
           }
          },
          "scene": {
           "xaxis": {
            "backgroundcolor": "#E5ECF6",
            "gridcolor": "white",
            "gridwidth": 2,
            "linecolor": "white",
            "showbackground": true,
            "ticks": "",
            "zerolinecolor": "white"
           },
           "yaxis": {
            "backgroundcolor": "#E5ECF6",
            "gridcolor": "white",
            "gridwidth": 2,
            "linecolor": "white",
            "showbackground": true,
            "ticks": "",
            "zerolinecolor": "white"
           },
           "zaxis": {
            "backgroundcolor": "#E5ECF6",
            "gridcolor": "white",
            "gridwidth": 2,
            "linecolor": "white",
            "showbackground": true,
            "ticks": "",
            "zerolinecolor": "white"
           }
          },
          "shapedefaults": {
           "line": {
            "color": "#2a3f5f"
           }
          },
          "ternary": {
           "aaxis": {
            "gridcolor": "white",
            "linecolor": "white",
            "ticks": ""
           },
           "baxis": {
            "gridcolor": "white",
            "linecolor": "white",
            "ticks": ""
           },
           "bgcolor": "#E5ECF6",
           "caxis": {
            "gridcolor": "white",
            "linecolor": "white",
            "ticks": ""
           }
          },
          "title": {
           "x": 0.05
          },
          "xaxis": {
           "automargin": true,
           "gridcolor": "white",
           "linecolor": "white",
           "ticks": "",
           "title": {
            "standoff": 15
           },
           "zerolinecolor": "white",
           "zerolinewidth": 2
          },
          "yaxis": {
           "automargin": true,
           "gridcolor": "white",
           "linecolor": "white",
           "ticks": "",
           "title": {
            "standoff": 15
           },
           "zerolinecolor": "white",
           "zerolinewidth": 2
          }
         }
        },
        "title": {
         "text": "Model Performance Metrics"
        },
        "xaxis": {
         "anchor": "y",
         "domain": [
          0,
          1
         ],
         "title": {
          "text": "Model"
         }
        },
        "yaxis": {
         "anchor": "x",
         "domain": [
          0,
          1
         ],
         "title": {
          "text": "Score"
         }
        }
       }
      }
     },
     "metadata": {},
     "output_type": "display_data"
    }
   ],
   "source": [
    "\n",
    "fig = px.bar(results_fullset, x='Model', y=['Accuracy', 'Precision', 'Recall', 'F1 Score'], title=\"Model Performance Metrics\")\n",
    "fig.update_layout(barmode='group', xaxis_title=\"Model\", yaxis_title=\"Score\")\n",
    "fig.show()"
   ]
  },
  {
   "cell_type": "markdown",
   "metadata": {},
   "source": [
    "#### Confusion Matrix and Heatmap for the Best Model using Plotly"
   ]
  },
  {
   "cell_type": "code",
   "execution_count": null,
   "metadata": {},
   "outputs": [
    {
     "data": {
      "application/vnd.plotly.v1+json": {
       "config": {
        "plotlyServerURL": "https://plot.ly"
       },
       "data": [
        {
         "colorscale": [
          [
           0,
           "rgb(247,251,255)"
          ],
          [
           0.125,
           "rgb(222,235,247)"
          ],
          [
           0.25,
           "rgb(198,219,239)"
          ],
          [
           0.375,
           "rgb(158,202,225)"
          ],
          [
           0.5,
           "rgb(107,174,214)"
          ],
          [
           0.625,
           "rgb(66,146,198)"
          ],
          [
           0.75,
           "rgb(33,113,181)"
          ],
          [
           0.875,
           "rgb(8,81,156)"
          ],
          [
           1,
           "rgb(8,48,107)"
          ]
         ],
         "type": "heatmap",
         "x": [
          "Anger",
          "Fear",
          "Joy",
          "Love",
          "Sadness",
          "Surprise"
         ],
         "y": [
          "Anger",
          "Fear",
          "Joy",
          "Love",
          "Sadness",
          "Surprise"
         ],
         "z": [
          [
           22794,
           577,
           84,
           600,
           389,
           60
          ],
          [
           350,
           26502,
           990,
           149,
           137,
           119
          ],
          [
           73,
           1417,
           5298,
           31,
           21,
           13
          ],
          [
           438,
           253,
           33,
           10280,
           320,
           15
          ],
          [
           411,
           186,
           24,
           333,
           8149,
           273
          ],
          [
           68,
           230,
           11,
           19,
           533,
           2182
          ]
         ]
        }
       ],
       "layout": {
        "template": {
         "data": {
          "bar": [
           {
            "error_x": {
             "color": "#2a3f5f"
            },
            "error_y": {
             "color": "#2a3f5f"
            },
            "marker": {
             "line": {
              "color": "#E5ECF6",
              "width": 0.5
             },
             "pattern": {
              "fillmode": "overlay",
              "size": 10,
              "solidity": 0.2
             }
            },
            "type": "bar"
           }
          ],
          "barpolar": [
           {
            "marker": {
             "line": {
              "color": "#E5ECF6",
              "width": 0.5
             },
             "pattern": {
              "fillmode": "overlay",
              "size": 10,
              "solidity": 0.2
             }
            },
            "type": "barpolar"
           }
          ],
          "carpet": [
           {
            "aaxis": {
             "endlinecolor": "#2a3f5f",
             "gridcolor": "white",
             "linecolor": "white",
             "minorgridcolor": "white",
             "startlinecolor": "#2a3f5f"
            },
            "baxis": {
             "endlinecolor": "#2a3f5f",
             "gridcolor": "white",
             "linecolor": "white",
             "minorgridcolor": "white",
             "startlinecolor": "#2a3f5f"
            },
            "type": "carpet"
           }
          ],
          "choropleth": [
           {
            "colorbar": {
             "outlinewidth": 0,
             "ticks": ""
            },
            "type": "choropleth"
           }
          ],
          "contour": [
           {
            "colorbar": {
             "outlinewidth": 0,
             "ticks": ""
            },
            "colorscale": [
             [
              0,
              "#0d0887"
             ],
             [
              0.1111111111111111,
              "#46039f"
             ],
             [
              0.2222222222222222,
              "#7201a8"
             ],
             [
              0.3333333333333333,
              "#9c179e"
             ],
             [
              0.4444444444444444,
              "#bd3786"
             ],
             [
              0.5555555555555556,
              "#d8576b"
             ],
             [
              0.6666666666666666,
              "#ed7953"
             ],
             [
              0.7777777777777778,
              "#fb9f3a"
             ],
             [
              0.8888888888888888,
              "#fdca26"
             ],
             [
              1,
              "#f0f921"
             ]
            ],
            "type": "contour"
           }
          ],
          "contourcarpet": [
           {
            "colorbar": {
             "outlinewidth": 0,
             "ticks": ""
            },
            "type": "contourcarpet"
           }
          ],
          "heatmap": [
           {
            "colorbar": {
             "outlinewidth": 0,
             "ticks": ""
            },
            "colorscale": [
             [
              0,
              "#0d0887"
             ],
             [
              0.1111111111111111,
              "#46039f"
             ],
             [
              0.2222222222222222,
              "#7201a8"
             ],
             [
              0.3333333333333333,
              "#9c179e"
             ],
             [
              0.4444444444444444,
              "#bd3786"
             ],
             [
              0.5555555555555556,
              "#d8576b"
             ],
             [
              0.6666666666666666,
              "#ed7953"
             ],
             [
              0.7777777777777778,
              "#fb9f3a"
             ],
             [
              0.8888888888888888,
              "#fdca26"
             ],
             [
              1,
              "#f0f921"
             ]
            ],
            "type": "heatmap"
           }
          ],
          "heatmapgl": [
           {
            "colorbar": {
             "outlinewidth": 0,
             "ticks": ""
            },
            "colorscale": [
             [
              0,
              "#0d0887"
             ],
             [
              0.1111111111111111,
              "#46039f"
             ],
             [
              0.2222222222222222,
              "#7201a8"
             ],
             [
              0.3333333333333333,
              "#9c179e"
             ],
             [
              0.4444444444444444,
              "#bd3786"
             ],
             [
              0.5555555555555556,
              "#d8576b"
             ],
             [
              0.6666666666666666,
              "#ed7953"
             ],
             [
              0.7777777777777778,
              "#fb9f3a"
             ],
             [
              0.8888888888888888,
              "#fdca26"
             ],
             [
              1,
              "#f0f921"
             ]
            ],
            "type": "heatmapgl"
           }
          ],
          "histogram": [
           {
            "marker": {
             "pattern": {
              "fillmode": "overlay",
              "size": 10,
              "solidity": 0.2
             }
            },
            "type": "histogram"
           }
          ],
          "histogram2d": [
           {
            "colorbar": {
             "outlinewidth": 0,
             "ticks": ""
            },
            "colorscale": [
             [
              0,
              "#0d0887"
             ],
             [
              0.1111111111111111,
              "#46039f"
             ],
             [
              0.2222222222222222,
              "#7201a8"
             ],
             [
              0.3333333333333333,
              "#9c179e"
             ],
             [
              0.4444444444444444,
              "#bd3786"
             ],
             [
              0.5555555555555556,
              "#d8576b"
             ],
             [
              0.6666666666666666,
              "#ed7953"
             ],
             [
              0.7777777777777778,
              "#fb9f3a"
             ],
             [
              0.8888888888888888,
              "#fdca26"
             ],
             [
              1,
              "#f0f921"
             ]
            ],
            "type": "histogram2d"
           }
          ],
          "histogram2dcontour": [
           {
            "colorbar": {
             "outlinewidth": 0,
             "ticks": ""
            },
            "colorscale": [
             [
              0,
              "#0d0887"
             ],
             [
              0.1111111111111111,
              "#46039f"
             ],
             [
              0.2222222222222222,
              "#7201a8"
             ],
             [
              0.3333333333333333,
              "#9c179e"
             ],
             [
              0.4444444444444444,
              "#bd3786"
             ],
             [
              0.5555555555555556,
              "#d8576b"
             ],
             [
              0.6666666666666666,
              "#ed7953"
             ],
             [
              0.7777777777777778,
              "#fb9f3a"
             ],
             [
              0.8888888888888888,
              "#fdca26"
             ],
             [
              1,
              "#f0f921"
             ]
            ],
            "type": "histogram2dcontour"
           }
          ],
          "mesh3d": [
           {
            "colorbar": {
             "outlinewidth": 0,
             "ticks": ""
            },
            "type": "mesh3d"
           }
          ],
          "parcoords": [
           {
            "line": {
             "colorbar": {
              "outlinewidth": 0,
              "ticks": ""
             }
            },
            "type": "parcoords"
           }
          ],
          "pie": [
           {
            "automargin": true,
            "type": "pie"
           }
          ],
          "scatter": [
           {
            "fillpattern": {
             "fillmode": "overlay",
             "size": 10,
             "solidity": 0.2
            },
            "type": "scatter"
           }
          ],
          "scatter3d": [
           {
            "line": {
             "colorbar": {
              "outlinewidth": 0,
              "ticks": ""
             }
            },
            "marker": {
             "colorbar": {
              "outlinewidth": 0,
              "ticks": ""
             }
            },
            "type": "scatter3d"
           }
          ],
          "scattercarpet": [
           {
            "marker": {
             "colorbar": {
              "outlinewidth": 0,
              "ticks": ""
             }
            },
            "type": "scattercarpet"
           }
          ],
          "scattergeo": [
           {
            "marker": {
             "colorbar": {
              "outlinewidth": 0,
              "ticks": ""
             }
            },
            "type": "scattergeo"
           }
          ],
          "scattergl": [
           {
            "marker": {
             "colorbar": {
              "outlinewidth": 0,
              "ticks": ""
             }
            },
            "type": "scattergl"
           }
          ],
          "scattermapbox": [
           {
            "marker": {
             "colorbar": {
              "outlinewidth": 0,
              "ticks": ""
             }
            },
            "type": "scattermapbox"
           }
          ],
          "scatterpolar": [
           {
            "marker": {
             "colorbar": {
              "outlinewidth": 0,
              "ticks": ""
             }
            },
            "type": "scatterpolar"
           }
          ],
          "scatterpolargl": [
           {
            "marker": {
             "colorbar": {
              "outlinewidth": 0,
              "ticks": ""
             }
            },
            "type": "scatterpolargl"
           }
          ],
          "scatterternary": [
           {
            "marker": {
             "colorbar": {
              "outlinewidth": 0,
              "ticks": ""
             }
            },
            "type": "scatterternary"
           }
          ],
          "surface": [
           {
            "colorbar": {
             "outlinewidth": 0,
             "ticks": ""
            },
            "colorscale": [
             [
              0,
              "#0d0887"
             ],
             [
              0.1111111111111111,
              "#46039f"
             ],
             [
              0.2222222222222222,
              "#7201a8"
             ],
             [
              0.3333333333333333,
              "#9c179e"
             ],
             [
              0.4444444444444444,
              "#bd3786"
             ],
             [
              0.5555555555555556,
              "#d8576b"
             ],
             [
              0.6666666666666666,
              "#ed7953"
             ],
             [
              0.7777777777777778,
              "#fb9f3a"
             ],
             [
              0.8888888888888888,
              "#fdca26"
             ],
             [
              1,
              "#f0f921"
             ]
            ],
            "type": "surface"
           }
          ],
          "table": [
           {
            "cells": {
             "fill": {
              "color": "#EBF0F8"
             },
             "line": {
              "color": "white"
             }
            },
            "header": {
             "fill": {
              "color": "#C8D4E3"
             },
             "line": {
              "color": "white"
             }
            },
            "type": "table"
           }
          ]
         },
         "layout": {
          "annotationdefaults": {
           "arrowcolor": "#2a3f5f",
           "arrowhead": 0,
           "arrowwidth": 1
          },
          "autotypenumbers": "strict",
          "coloraxis": {
           "colorbar": {
            "outlinewidth": 0,
            "ticks": ""
           }
          },
          "colorscale": {
           "diverging": [
            [
             0,
             "#8e0152"
            ],
            [
             0.1,
             "#c51b7d"
            ],
            [
             0.2,
             "#de77ae"
            ],
            [
             0.3,
             "#f1b6da"
            ],
            [
             0.4,
             "#fde0ef"
            ],
            [
             0.5,
             "#f7f7f7"
            ],
            [
             0.6,
             "#e6f5d0"
            ],
            [
             0.7,
             "#b8e186"
            ],
            [
             0.8,
             "#7fbc41"
            ],
            [
             0.9,
             "#4d9221"
            ],
            [
             1,
             "#276419"
            ]
           ],
           "sequential": [
            [
             0,
             "#0d0887"
            ],
            [
             0.1111111111111111,
             "#46039f"
            ],
            [
             0.2222222222222222,
             "#7201a8"
            ],
            [
             0.3333333333333333,
             "#9c179e"
            ],
            [
             0.4444444444444444,
             "#bd3786"
            ],
            [
             0.5555555555555556,
             "#d8576b"
            ],
            [
             0.6666666666666666,
             "#ed7953"
            ],
            [
             0.7777777777777778,
             "#fb9f3a"
            ],
            [
             0.8888888888888888,
             "#fdca26"
            ],
            [
             1,
             "#f0f921"
            ]
           ],
           "sequentialminus": [
            [
             0,
             "#0d0887"
            ],
            [
             0.1111111111111111,
             "#46039f"
            ],
            [
             0.2222222222222222,
             "#7201a8"
            ],
            [
             0.3333333333333333,
             "#9c179e"
            ],
            [
             0.4444444444444444,
             "#bd3786"
            ],
            [
             0.5555555555555556,
             "#d8576b"
            ],
            [
             0.6666666666666666,
             "#ed7953"
            ],
            [
             0.7777777777777778,
             "#fb9f3a"
            ],
            [
             0.8888888888888888,
             "#fdca26"
            ],
            [
             1,
             "#f0f921"
            ]
           ]
          },
          "colorway": [
           "#636efa",
           "#EF553B",
           "#00cc96",
           "#ab63fa",
           "#FFA15A",
           "#19d3f3",
           "#FF6692",
           "#B6E880",
           "#FF97FF",
           "#FECB52"
          ],
          "font": {
           "color": "#2a3f5f"
          },
          "geo": {
           "bgcolor": "white",
           "lakecolor": "white",
           "landcolor": "#E5ECF6",
           "showlakes": true,
           "showland": true,
           "subunitcolor": "white"
          },
          "hoverlabel": {
           "align": "left"
          },
          "hovermode": "closest",
          "mapbox": {
           "style": "light"
          },
          "paper_bgcolor": "white",
          "plot_bgcolor": "#E5ECF6",
          "polar": {
           "angularaxis": {
            "gridcolor": "white",
            "linecolor": "white",
            "ticks": ""
           },
           "bgcolor": "#E5ECF6",
           "radialaxis": {
            "gridcolor": "white",
            "linecolor": "white",
            "ticks": ""
           }
          },
          "scene": {
           "xaxis": {
            "backgroundcolor": "#E5ECF6",
            "gridcolor": "white",
            "gridwidth": 2,
            "linecolor": "white",
            "showbackground": true,
            "ticks": "",
            "zerolinecolor": "white"
           },
           "yaxis": {
            "backgroundcolor": "#E5ECF6",
            "gridcolor": "white",
            "gridwidth": 2,
            "linecolor": "white",
            "showbackground": true,
            "ticks": "",
            "zerolinecolor": "white"
           },
           "zaxis": {
            "backgroundcolor": "#E5ECF6",
            "gridcolor": "white",
            "gridwidth": 2,
            "linecolor": "white",
            "showbackground": true,
            "ticks": "",
            "zerolinecolor": "white"
           }
          },
          "shapedefaults": {
           "line": {
            "color": "#2a3f5f"
           }
          },
          "ternary": {
           "aaxis": {
            "gridcolor": "white",
            "linecolor": "white",
            "ticks": ""
           },
           "baxis": {
            "gridcolor": "white",
            "linecolor": "white",
            "ticks": ""
           },
           "bgcolor": "#E5ECF6",
           "caxis": {
            "gridcolor": "white",
            "linecolor": "white",
            "ticks": ""
           }
          },
          "title": {
           "x": 0.05
          },
          "xaxis": {
           "automargin": true,
           "gridcolor": "white",
           "linecolor": "white",
           "ticks": "",
           "title": {
            "standoff": 15
           },
           "zerolinecolor": "white",
           "zerolinewidth": 2
          },
          "yaxis": {
           "automargin": true,
           "gridcolor": "white",
           "linecolor": "white",
           "ticks": "",
           "title": {
            "standoff": 15
           },
           "zerolinecolor": "white",
           "zerolinewidth": 2
          }
         }
        },
        "title": {
         "text": "Confusion Matrix - Lasso Regression"
        },
        "xaxis": {
         "title": {
          "text": "Predicted Label"
         }
        },
        "yaxis": {
         "title": {
          "text": "True Label"
         }
        }
       }
      }
     },
     "metadata": {},
     "output_type": "display_data"
    }
   ],
   "source": [
    "\n",
    "y_pred_best = best_model.predict(tfidf_vect.transform(X_test))\n",
    "cm = confusion_matrix(y_test, y_pred_best)\n",
    "cm_fig = go.Figure(data=go.Heatmap(\n",
    "    z=cm,\n",
    "    x=['Anger', 'Fear', 'Joy', 'Love', 'Sadness', 'Surprise'],\n",
    "    y=['Anger', 'Fear', 'Joy', 'Love', 'Sadness', 'Surprise'],\n",
    "    colorscale='Blues'\n",
    "))\n",
    "cm_fig.update_layout(\n",
    "    title=f'Confusion Matrix - {best_model_name}',\n",
    "    xaxis_title=\"Predicted Label\",\n",
    "    yaxis_title=\"True Label\"\n",
    ")\n",
    "cm_fig.show()"
   ]
  },
  {
   "cell_type": "markdown",
   "metadata": {},
   "source": [
    "#### Save results to a CSV file"
   ]
  },
  {
   "cell_type": "code",
   "execution_count": null,
   "metadata": {},
   "outputs": [],
   "source": [
    "\n",
    "results_fullset.to_csv(os.path.join(save_dir, \"results.csv\"), index=False)"
   ]
  },
  {
   "cell_type": "markdown",
   "metadata": {},
   "source": []
  },
  {
   "cell_type": "markdown",
   "metadata": {},
   "source": [
    "#### Cross-validation of Naive Bayes classification\n"
   ]
  },
  {
   "cell_type": "code",
   "execution_count": 15,
   "metadata": {},
   "outputs": [
    {
     "name": "stdout",
     "output_type": "stream",
     "text": [
      "Performing cross-validation for Naive Bayes...\n",
      "         Model  Accuracy (CV)  Precision (CV)  Recall (CV)  F1 Score (CV)  \\\n",
      "0  Naive Bayes       0.772289        0.810524     0.772289       0.742095   \n",
      "\n",
      "   Composite Score (CV)  \n",
      "0              0.774299  \n",
      "\n",
      "Cross-validation results for Naive Bayes saved to C:\\Users\\vrishin\\Desktop\\model_saves\\Naive Bayes_cross_validation_results.csv.\n"
     ]
    }
   ],
   "source": [
    "from sklearn.model_selection import cross_val_score\n",
    "import numpy as np\n",
    "import pandas as pd\n",
    "\n",
    "# Perform Cross-Validation for a single model\n",
    "def cross_validate_model(model, model_name, tfidf_vect, X, y, cv=5):\n",
    "    \"\"\"\n",
    "    Perform cross-validation on a single model.\n",
    "    \n",
    "    Args:\n",
    "    - model (sklearn estimator): The model to evaluate.\n",
    "    - model_name (str): Name of the model.\n",
    "    - tfidf_vect (TfidfVectorizer): Fitted TF-IDF vectorizer.\n",
    "    - X (pd.Series): Input text data.\n",
    "    - y (pd.Series): Target labels.\n",
    "    - cv (int): Number of folds for cross-validation.\n",
    "    \n",
    "    Returns:\n",
    "    - result_df (pd.DataFrame): DataFrame with cross-validation metrics for the model.\n",
    "    \"\"\"\n",
    "    X_tfidf = tfidf_vect.transform(X)\n",
    "    print(f\"Performing cross-validation for {model_name}...\")\n",
    "    \n",
    "    # Calculate metrics\n",
    "    accuracy_scores = cross_val_score(model, X_tfidf, y, cv=cv, scoring='accuracy')\n",
    "    precision_scores = cross_val_score(model, X_tfidf, y, cv=cv, scoring='precision_weighted')\n",
    "    recall_scores = cross_val_score(model, X_tfidf, y, cv=cv, scoring='recall_weighted')\n",
    "    f1_scores = cross_val_score(model, X_tfidf, y, cv=cv, scoring='f1_weighted')\n",
    "    \n",
    "    # Prepare results\n",
    "    result = {\n",
    "        'Model': model_name,\n",
    "        'Accuracy (CV)': np.mean(accuracy_scores),\n",
    "        'Precision (CV)': np.mean(precision_scores),\n",
    "        'Recall (CV)': np.mean(recall_scores),\n",
    "        'F1 Score (CV)': np.mean(f1_scores),\n",
    "        'Composite Score (CV)': np.mean([np.mean(accuracy_scores), np.mean(precision_scores), np.mean(recall_scores), np.mean(f1_scores)])\n",
    "    }\n",
    "    \n",
    "    result_df = pd.DataFrame([result])\n",
    "    return result_df\n",
    "\n",
    "\n",
    "model_name = 'Naive Bayes'  \n",
    "selected_model = models[model_name]  \n",
    "\n",
    "# Perform cross-validation for the selected model\n",
    "cv_result = cross_validate_model(selected_model, model_name, tfidf_vect, df_cleaned['cleaned_text'], df_cleaned['Sentiment_label'], cv=5)\n",
    "\n",
    "# Display and save the result\n",
    "print(cv_result)\n",
    "\n",
    "# Save the cross-validation result to CSV\n",
    "cv_result_file_path = os.path.join(save_dir, f\"{model_name}_cross_validation_results.csv\")\n",
    "cv_result.to_csv(cv_result_file_path, index=False)\n",
    "print(f\"\\nCross-validation results for {model_name} saved to {cv_result_file_path}.\")\n"
   ]
  },
  {
   "cell_type": "markdown",
   "metadata": {},
   "source": [
    "#### Cross Validation for SVM classification"
   ]
  },
  {
   "cell_type": "code",
   "execution_count": 18,
   "metadata": {},
   "outputs": [
    {
     "name": "stdout",
     "output_type": "stream",
     "text": [
      "Performing cross-validation for SVM...\n",
      "  Model  Accuracy (CV)  Precision (CV)  Recall (CV)  F1 Score (CV)  \\\n",
      "0   SVM       0.883028        0.882887     0.883028       0.882928   \n",
      "\n",
      "   Composite Score (CV)  \n",
      "0              0.882968  \n",
      "\n",
      "Cross-validation results for SVM saved to C:\\Users\\vrishin\\Desktop\\model_saves\\SVM_cross_validation_results.csv.\n"
     ]
    }
   ],
   "source": [
    "from sklearn.model_selection import cross_val_score\n",
    "import numpy as np\n",
    "import pandas as pd\n",
    "\n",
    "# Perform Cross-Validation for a single model\n",
    "def cross_validate_model(model, model_name, tfidf_vect, X, y, cv=5):\n",
    "    \"\"\"\n",
    "    Perform cross-validation on a single model.\n",
    "    \n",
    "    Args:\n",
    "    - model (sklearn estimator): The model to evaluate.\n",
    "    - model_name (str): Name of the model.\n",
    "    - tfidf_vect (TfidfVectorizer): Fitted TF-IDF vectorizer.\n",
    "    - X (pd.Series): Input text data.\n",
    "    - y (pd.Series): Target labels.\n",
    "    - cv (int): Number of folds for cross-validation.\n",
    "    \n",
    "    Returns:\n",
    "    - result_df (pd.DataFrame): DataFrame with cross-validation metrics for the model.\n",
    "    \"\"\"\n",
    "    X_tfidf = tfidf_vect.transform(X)\n",
    "    print(f\"Performing cross-validation for {model_name}...\")\n",
    "    \n",
    "    # Calculate metrics\n",
    "    accuracy_scores = cross_val_score(model, X_tfidf, y, cv=cv, scoring='accuracy')\n",
    "    precision_scores = cross_val_score(model, X_tfidf, y, cv=cv, scoring='precision_weighted')\n",
    "    recall_scores = cross_val_score(model, X_tfidf, y, cv=cv, scoring='recall_weighted')\n",
    "    f1_scores = cross_val_score(model, X_tfidf, y, cv=cv, scoring='f1_weighted')\n",
    "    \n",
    "    # Prepare results\n",
    "    result = {\n",
    "        'Model': model_name,\n",
    "        'Accuracy (CV)': np.mean(accuracy_scores),\n",
    "        'Precision (CV)': np.mean(precision_scores),\n",
    "        'Recall (CV)': np.mean(recall_scores),\n",
    "        'F1 Score (CV)': np.mean(f1_scores),\n",
    "        'Composite Score (CV)': np.mean([np.mean(accuracy_scores), np.mean(precision_scores), np.mean(recall_scores), np.mean(f1_scores)])\n",
    "    }\n",
    "    \n",
    "    result_df = pd.DataFrame([result])\n",
    "    return result_df\n",
    "\n",
    "\n",
    "model_name = 'SVM'  \n",
    "selected_model = models[model_name]  \n",
    "\n",
    "# Perform cross-validation for the selected model\n",
    "cv_result = cross_validate_model(selected_model, model_name, tfidf_vect, df_cleaned['cleaned_text'], df_cleaned['Sentiment_label'], cv=5)\n",
    "\n",
    "# Display and save the result\n",
    "print(cv_result)\n",
    "\n",
    "# Save the cross-validation result to CSV\n",
    "cv_result_file_path = os.path.join(save_dir, f\"{model_name}_cross_validation_results.csv\")\n",
    "cv_result.to_csv(cv_result_file_path, index=False)\n",
    "print(f\"\\nCross-validation results for {model_name} saved to {cv_result_file_path}.\")\n"
   ]
  },
  {
   "cell_type": "markdown",
   "metadata": {},
   "source": [
    "#### Cross Validation for Logistic Regression Classifier"
   ]
  },
  {
   "cell_type": "code",
   "execution_count": 19,
   "metadata": {},
   "outputs": [
    {
     "name": "stdout",
     "output_type": "stream",
     "text": [
      "Performing cross-validation for Logistic Regression...\n",
      "                 Model  Accuracy (CV)  Precision (CV)  Recall (CV)  \\\n",
      "0  Logistic Regression       0.891617        0.890707     0.891617   \n",
      "\n",
      "   F1 Score (CV)  Composite Score (CV)  \n",
      "0       0.890953              0.891224  \n",
      "\n",
      "Cross-validation results for Logistic Regression saved to C:\\Users\\vrishin\\Desktop\\model_saves\\Logistic Regression_cross_validation_results.csv.\n"
     ]
    }
   ],
   "source": [
    "from sklearn.model_selection import cross_val_score\n",
    "import numpy as np\n",
    "import pandas as pd\n",
    "\n",
    "# Perform Cross-Validation for a single model\n",
    "def cross_validate_model(model, model_name, tfidf_vect, X, y, cv=5):\n",
    "    \"\"\"\n",
    "    Perform cross-validation on a single model.\n",
    "    \n",
    "    Args:\n",
    "    - model (sklearn estimator): The model to evaluate.\n",
    "    - model_name (str): Name of the model.\n",
    "    - tfidf_vect (TfidfVectorizer): Fitted TF-IDF vectorizer.\n",
    "    - X (pd.Series): Input text data.\n",
    "    - y (pd.Series): Target labels.\n",
    "    - cv (int): Number of folds for cross-validation.\n",
    "    \n",
    "    Returns:\n",
    "    - result_df (pd.DataFrame): DataFrame with cross-validation metrics for the model.\n",
    "    \"\"\"\n",
    "    X_tfidf = tfidf_vect.transform(X)\n",
    "    print(f\"Performing cross-validation for {model_name}...\")\n",
    "    \n",
    "    # Calculate metrics\n",
    "    accuracy_scores = cross_val_score(model, X_tfidf, y, cv=cv, scoring='accuracy')\n",
    "    precision_scores = cross_val_score(model, X_tfidf, y, cv=cv, scoring='precision_weighted')\n",
    "    recall_scores = cross_val_score(model, X_tfidf, y, cv=cv, scoring='recall_weighted')\n",
    "    f1_scores = cross_val_score(model, X_tfidf, y, cv=cv, scoring='f1_weighted')\n",
    "    \n",
    "    # Prepare results\n",
    "    result = {\n",
    "        'Model': model_name,\n",
    "        'Accuracy (CV)': np.mean(accuracy_scores),\n",
    "        'Precision (CV)': np.mean(precision_scores),\n",
    "        'Recall (CV)': np.mean(recall_scores),\n",
    "        'F1 Score (CV)': np.mean(f1_scores),\n",
    "        'Composite Score (CV)': np.mean([np.mean(accuracy_scores), np.mean(precision_scores), np.mean(recall_scores), np.mean(f1_scores)])\n",
    "    }\n",
    "    \n",
    "    result_df = pd.DataFrame([result])\n",
    "    return result_df\n",
    "\n",
    "\n",
    "model_name = 'Logistic Regression'  \n",
    "selected_model = models[model_name]  \n",
    "\n",
    "# Perform cross-validation for the selected model\n",
    "cv_result = cross_validate_model(selected_model, model_name, tfidf_vect, df_cleaned['cleaned_text'], df_cleaned['Sentiment_label'], cv=5)\n",
    "\n",
    "# Display and save the result\n",
    "print(cv_result)\n",
    "\n",
    "# Save the cross-validation result to CSV\n",
    "cv_result_file_path = os.path.join(save_dir, f\"{model_name}_cross_validation_results.csv\")\n",
    "cv_result.to_csv(cv_result_file_path, index=False)\n",
    "print(f\"\\nCross-validation results for {model_name} saved to {cv_result_file_path}.\")\n"
   ]
  },
  {
   "cell_type": "markdown",
   "metadata": {},
   "source": [
    "#### Cross Validation for Lasso Regression Classifier"
   ]
  },
  {
   "cell_type": "code",
   "execution_count": 20,
   "metadata": {},
   "outputs": [
    {
     "name": "stdout",
     "output_type": "stream",
     "text": [
      "Performing cross-validation for Lasso Regression...\n",
      "              Model  Accuracy (CV)  Precision (CV)  Recall (CV)  \\\n",
      "0  Lasso Regression       0.902706        0.902156     0.902706   \n",
      "\n",
      "   F1 Score (CV)  Composite Score (CV)  \n",
      "0       0.902162              0.902433  \n",
      "\n",
      "Cross-validation results for Lasso Regression saved to C:\\Users\\vrishin\\Desktop\\model_saves\\Lasso Regression_cross_validation_results.csv.\n"
     ]
    }
   ],
   "source": [
    "from sklearn.model_selection import cross_val_score\n",
    "import numpy as np\n",
    "import pandas as pd\n",
    "\n",
    "# Perform Cross-Validation for a single model\n",
    "def cross_validate_model(model, model_name, tfidf_vect, X, y, cv=5):\n",
    "    \"\"\"\n",
    "    Perform cross-validation on a single model.\n",
    "    \n",
    "    Args:\n",
    "    - model (sklearn estimator): The model to evaluate.\n",
    "    - model_name (str): Name of the model.\n",
    "    - tfidf_vect (TfidfVectorizer): Fitted TF-IDF vectorizer.\n",
    "    - X (pd.Series): Input text data.\n",
    "    - y (pd.Series): Target labels.\n",
    "    - cv (int): Number of folds for cross-validation.\n",
    "    \n",
    "    Returns:\n",
    "    - result_df (pd.DataFrame): DataFrame with cross-validation metrics for the model.\n",
    "    \"\"\"\n",
    "    X_tfidf = tfidf_vect.transform(X)\n",
    "    print(f\"Performing cross-validation for {model_name}...\")\n",
    "    \n",
    "    # Calculate metrics\n",
    "    accuracy_scores = cross_val_score(model, X_tfidf, y, cv=cv, scoring='accuracy')\n",
    "    precision_scores = cross_val_score(model, X_tfidf, y, cv=cv, scoring='precision_weighted')\n",
    "    recall_scores = cross_val_score(model, X_tfidf, y, cv=cv, scoring='recall_weighted')\n",
    "    f1_scores = cross_val_score(model, X_tfidf, y, cv=cv, scoring='f1_weighted')\n",
    "    \n",
    "    # Prepare results\n",
    "    result = {\n",
    "        'Model': model_name,\n",
    "        'Accuracy (CV)': np.mean(accuracy_scores),\n",
    "        'Precision (CV)': np.mean(precision_scores),\n",
    "        'Recall (CV)': np.mean(recall_scores),\n",
    "        'F1 Score (CV)': np.mean(f1_scores),\n",
    "        'Composite Score (CV)': np.mean([np.mean(accuracy_scores), np.mean(precision_scores), np.mean(recall_scores), np.mean(f1_scores)])\n",
    "    }\n",
    "    \n",
    "    result_df = pd.DataFrame([result])\n",
    "    return result_df\n",
    "\n",
    "\n",
    "model_name = 'Lasso Regression'  \n",
    "selected_model = models[model_name]  \n",
    "\n",
    "# Perform cross-validation for the selected model\n",
    "cv_result = cross_validate_model(selected_model, model_name, tfidf_vect, df_cleaned['cleaned_text'], df_cleaned['Sentiment_label'], cv=5)\n",
    "\n",
    "# Display and save the result\n",
    "print(cv_result)\n",
    "\n",
    "# Save the cross-validation result to CSV\n",
    "cv_result_file_path = os.path.join(save_dir, f\"{model_name}_cross_validation_results.csv\")\n",
    "cv_result.to_csv(cv_result_file_path, index=False)\n",
    "print(f\"\\nCross-validation results for {model_name} saved to {cv_result_file_path}.\")\n"
   ]
  },
  {
   "cell_type": "markdown",
   "metadata": {},
   "source": [
    "#### Cross Validation for Decision Tree Classifier"
   ]
  },
  {
   "cell_type": "code",
   "execution_count": 21,
   "metadata": {},
   "outputs": [
    {
     "name": "stdout",
     "output_type": "stream",
     "text": [
      "Performing cross-validation for Decision Tree...\n",
      "           Model  Accuracy (CV)  Precision (CV)  Recall (CV)  F1 Score (CV)  \\\n",
      "0  Decision Tree        0.83961        0.839309     0.839622       0.839435   \n",
      "\n",
      "   Composite Score (CV)  \n",
      "0              0.839494  \n",
      "\n",
      "Cross-validation results for Decision Tree saved to C:\\Users\\vrishin\\Desktop\\model_saves\\Decision Tree_cross_validation_results.csv.\n"
     ]
    }
   ],
   "source": [
    "from sklearn.model_selection import cross_val_score\n",
    "import numpy as np\n",
    "import pandas as pd\n",
    "\n",
    "# Perform Cross-Validation for a single model\n",
    "def cross_validate_model(model, model_name, tfidf_vect, X, y, cv=5):\n",
    "    \"\"\"\n",
    "    Perform cross-validation on a single model.\n",
    "    \n",
    "    Args:\n",
    "    - model (sklearn estimator): The model to evaluate.\n",
    "    - model_name (str): Name of the model.\n",
    "    - tfidf_vect (TfidfVectorizer): Fitted TF-IDF vectorizer.\n",
    "    - X (pd.Series): Input text data.\n",
    "    - y (pd.Series): Target labels.\n",
    "    - cv (int): Number of folds for cross-validation.\n",
    "    \n",
    "    Returns:\n",
    "    - result_df (pd.DataFrame): DataFrame with cross-validation metrics for the model.\n",
    "    \"\"\"\n",
    "    X_tfidf = tfidf_vect.transform(X)\n",
    "    print(f\"Performing cross-validation for {model_name}...\")\n",
    "    \n",
    "    # Calculate metrics\n",
    "    accuracy_scores = cross_val_score(model, X_tfidf, y, cv=cv, scoring='accuracy')\n",
    "    precision_scores = cross_val_score(model, X_tfidf, y, cv=cv, scoring='precision_weighted')\n",
    "    recall_scores = cross_val_score(model, X_tfidf, y, cv=cv, scoring='recall_weighted')\n",
    "    f1_scores = cross_val_score(model, X_tfidf, y, cv=cv, scoring='f1_weighted')\n",
    "    \n",
    "    # Prepare results\n",
    "    result = {\n",
    "        'Model': model_name,\n",
    "        'Accuracy (CV)': np.mean(accuracy_scores),\n",
    "        'Precision (CV)': np.mean(precision_scores),\n",
    "        'Recall (CV)': np.mean(recall_scores),\n",
    "        'F1 Score (CV)': np.mean(f1_scores),\n",
    "        'Composite Score (CV)': np.mean([np.mean(accuracy_scores), np.mean(precision_scores), np.mean(recall_scores), np.mean(f1_scores)])\n",
    "    }\n",
    "    \n",
    "    result_df = pd.DataFrame([result])\n",
    "    return result_df\n",
    "\n",
    "\n",
    "model_name = 'Decision Tree'  \n",
    "selected_model = models[model_name]  \n",
    "\n",
    "# Perform cross-validation for the selected model\n",
    "cv_result = cross_validate_model(selected_model, model_name, tfidf_vect, df_cleaned['cleaned_text'], df_cleaned['Sentiment_label'], cv=5)\n",
    "\n",
    "# Display and save the result\n",
    "print(cv_result)\n",
    "\n",
    "# Save the cross-validation result to CSV\n",
    "cv_result_file_path = os.path.join(save_dir, f\"{model_name}_cross_validation_results.csv\")\n",
    "cv_result.to_csv(cv_result_file_path, index=False)\n",
    "print(f\"\\nCross-validation results for {model_name} saved to {cv_result_file_path}.\")\n"
   ]
  },
  {
   "cell_type": "code",
   "execution_count": null,
   "metadata": {},
   "outputs": [],
   "source": []
  },
  {
   "cell_type": "code",
   "execution_count": null,
   "metadata": {},
   "outputs": [],
   "source": []
  },
  {
   "cell_type": "code",
   "execution_count": null,
   "metadata": {},
   "outputs": [],
   "source": []
  }
 ],
 "metadata": {
  "kernelspec": {
   "display_name": "Python 3",
   "language": "python",
   "name": "python3"
  },
  "language_info": {
   "codemirror_mode": {
    "name": "ipython",
    "version": 3
   },
   "file_extension": ".py",
   "mimetype": "text/x-python",
   "name": "python",
   "nbconvert_exporter": "python",
   "pygments_lexer": "ipython3",
   "version": "3.10.10"
  }
 },
 "nbformat": 4,
 "nbformat_minor": 2
}
